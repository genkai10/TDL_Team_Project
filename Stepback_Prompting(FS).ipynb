{
 "cells": [
  {
   "cell_type": "code",
   "execution_count": 3,
   "id": "a8b4b491-76da-4650-96c5-3008914bea5b",
   "metadata": {},
   "outputs": [],
   "source": [
    "from langchain_core.output_parsers import StrOutputParser\n",
    "from langchain_core.prompts import ChatPromptTemplate, FewShotChatMessagePromptTemplate\n",
    "from langchain_core.runnables import RunnableLambda\n",
    "from langchain_openai import ChatOpenAI"
   ]
  },
  {
   "cell_type": "code",
   "execution_count": 1,
   "id": "d43ba461-776c-4072-bdf4-7a1b7d47615b",
   "metadata": {},
   "outputs": [
    {
     "name": "stdout",
     "output_type": "stream",
     "text": [
      "Requirement already satisfied: langchain in /home/ubuntu/.local/lib/python3.8/site-packages (0.1.6)\n",
      "Requirement already satisfied: tenacity<9.0.0,>=8.1.0 in /home/ubuntu/.local/lib/python3.8/site-packages (from langchain) (8.2.3)\n",
      "Requirement already satisfied: async-timeout<5.0.0,>=4.0.0; python_version < \"3.11\" in /home/ubuntu/.local/lib/python3.8/site-packages (from langchain) (4.0.3)\n",
      "Requirement already satisfied: dataclasses-json<0.7,>=0.5.7 in /home/ubuntu/.local/lib/python3.8/site-packages (from langchain) (0.6.4)\n",
      "Requirement already satisfied: pydantic<3,>=1 in /home/ubuntu/.local/lib/python3.8/site-packages (from langchain) (2.5.3)\n",
      "Requirement already satisfied: jsonpatch<2.0,>=1.33 in /home/ubuntu/.local/lib/python3.8/site-packages (from langchain) (1.33)\n",
      "Requirement already satisfied: PyYAML>=5.3 in /usr/lib/python3/dist-packages (from langchain) (5.3.1)\n",
      "Requirement already satisfied: numpy<2,>=1 in /home/ubuntu/.local/lib/python3.8/site-packages (from langchain) (1.24.4)\n",
      "Requirement already satisfied: requests<3,>=2 in /home/ubuntu/.local/lib/python3.8/site-packages (from langchain) (2.31.0)\n",
      "Requirement already satisfied: langchain-community<0.1,>=0.0.18 in /home/ubuntu/.local/lib/python3.8/site-packages (from langchain) (0.0.19)\n",
      "Requirement already satisfied: langsmith<0.1,>=0.0.83 in /home/ubuntu/.local/lib/python3.8/site-packages (from langchain) (0.0.90)\n",
      "Requirement already satisfied: langchain-core<0.2,>=0.1.22 in /home/ubuntu/.local/lib/python3.8/site-packages (from langchain) (0.1.22)\n",
      "Requirement already satisfied: SQLAlchemy<3,>=1.4 in /home/ubuntu/.local/lib/python3.8/site-packages (from langchain) (2.0.26)\n",
      "Requirement already satisfied: aiohttp<4.0.0,>=3.8.3 in /home/ubuntu/.local/lib/python3.8/site-packages (from langchain) (3.9.1)\n",
      "Requirement already satisfied: typing-inspect<1,>=0.4.0 in /home/ubuntu/.local/lib/python3.8/site-packages (from dataclasses-json<0.7,>=0.5.7->langchain) (0.9.0)\n",
      "Requirement already satisfied: marshmallow<4.0.0,>=3.18.0 in /home/ubuntu/.local/lib/python3.8/site-packages (from dataclasses-json<0.7,>=0.5.7->langchain) (3.20.2)\n",
      "Requirement already satisfied: pydantic-core==2.14.6 in /home/ubuntu/.local/lib/python3.8/site-packages (from pydantic<3,>=1->langchain) (2.14.6)\n",
      "Requirement already satisfied: annotated-types>=0.4.0 in /home/ubuntu/.local/lib/python3.8/site-packages (from pydantic<3,>=1->langchain) (0.6.0)\n",
      "Requirement already satisfied: typing-extensions>=4.6.1 in /home/ubuntu/.local/lib/python3.8/site-packages (from pydantic<3,>=1->langchain) (4.9.0)\n",
      "Requirement already satisfied: jsonpointer>=1.9 in /usr/lib/python3/dist-packages (from jsonpatch<2.0,>=1.33->langchain) (2.0)\n",
      "Requirement already satisfied: urllib3<3,>=1.21.1 in /home/ubuntu/.local/lib/python3.8/site-packages (from requests<3,>=2->langchain) (2.1.0)\n",
      "Requirement already satisfied: certifi>=2017.4.17 in /usr/lib/python3/dist-packages (from requests<3,>=2->langchain) (2019.11.28)\n",
      "Requirement already satisfied: idna<4,>=2.5 in /usr/lib/python3/dist-packages (from requests<3,>=2->langchain) (2.8)\n",
      "Requirement already satisfied: charset-normalizer<4,>=2 in /home/ubuntu/.local/lib/python3.8/site-packages (from requests<3,>=2->langchain) (3.3.2)\n",
      "Requirement already satisfied: anyio<5,>=3 in /home/ubuntu/.local/lib/python3.8/site-packages (from langchain-core<0.2,>=0.1.22->langchain) (4.2.0)\n",
      "Requirement already satisfied: packaging<24.0,>=23.2 in /home/ubuntu/.local/lib/python3.8/site-packages (from langchain-core<0.2,>=0.1.22->langchain) (23.2)\n",
      "Requirement already satisfied: greenlet!=0.4.17; platform_machine == \"aarch64\" or (platform_machine == \"ppc64le\" or (platform_machine == \"x86_64\" or (platform_machine == \"amd64\" or (platform_machine == \"AMD64\" or (platform_machine == \"win32\" or platform_machine == \"WIN32\"))))) in /home/ubuntu/.local/lib/python3.8/site-packages (from SQLAlchemy<3,>=1.4->langchain) (3.0.3)\n",
      "Requirement already satisfied: multidict<7.0,>=4.5 in /home/ubuntu/.local/lib/python3.8/site-packages (from aiohttp<4.0.0,>=3.8.3->langchain) (6.0.4)\n",
      "Requirement already satisfied: yarl<2.0,>=1.0 in /home/ubuntu/.local/lib/python3.8/site-packages (from aiohttp<4.0.0,>=3.8.3->langchain) (1.9.4)\n",
      "Requirement already satisfied: attrs>=17.3.0 in /home/ubuntu/.local/lib/python3.8/site-packages (from aiohttp<4.0.0,>=3.8.3->langchain) (23.2.0)\n",
      "Requirement already satisfied: aiosignal>=1.1.2 in /home/ubuntu/.local/lib/python3.8/site-packages (from aiohttp<4.0.0,>=3.8.3->langchain) (1.3.1)\n",
      "Requirement already satisfied: frozenlist>=1.1.1 in /home/ubuntu/.local/lib/python3.8/site-packages (from aiohttp<4.0.0,>=3.8.3->langchain) (1.4.1)\n",
      "Requirement already satisfied: mypy-extensions>=0.3.0 in /home/ubuntu/.local/lib/python3.8/site-packages (from typing-inspect<1,>=0.4.0->dataclasses-json<0.7,>=0.5.7->langchain) (1.0.0)\n",
      "Requirement already satisfied: exceptiongroup>=1.0.2; python_version < \"3.11\" in /home/ubuntu/.local/lib/python3.8/site-packages (from anyio<5,>=3->langchain-core<0.2,>=0.1.22->langchain) (1.2.0)\n",
      "Requirement already satisfied: sniffio>=1.1 in /home/ubuntu/.local/lib/python3.8/site-packages (from anyio<5,>=3->langchain-core<0.2,>=0.1.22->langchain) (1.3.0)\n"
     ]
    }
   ],
   "source": [
    "!pip install langchain  "
   ]
  },
  {
   "cell_type": "code",
   "execution_count": 2,
   "id": "52f80cb8-98b5-473b-bb3d-9d0b89ecdb3f",
   "metadata": {},
   "outputs": [
    {
     "name": "stdout",
     "output_type": "stream",
     "text": [
      "Collecting langchain-openai\n",
      "  Downloading langchain_openai-0.0.5-py3-none-any.whl (29 kB)\n",
      "Collecting openai<2.0.0,>=1.10.0\n",
      "  Downloading openai-1.12.0-py3-none-any.whl (226 kB)\n",
      "\u001b[K     |████████████████████████████████| 226 kB 16.8 MB/s eta 0:00:01\n",
      "\u001b[?25hRequirement already satisfied: numpy<2,>=1 in /home/ubuntu/.local/lib/python3.8/site-packages (from langchain-openai) (1.24.4)\n",
      "Requirement already satisfied: tiktoken<0.6.0,>=0.5.2 in /home/ubuntu/.local/lib/python3.8/site-packages (from langchain-openai) (0.5.2)\n",
      "Requirement already satisfied: langchain-core<0.2,>=0.1.16 in /home/ubuntu/.local/lib/python3.8/site-packages (from langchain-openai) (0.1.22)\n",
      "Requirement already satisfied: distro<2,>=1.7.0 in /home/ubuntu/.local/lib/python3.8/site-packages (from openai<2.0.0,>=1.10.0->langchain-openai) (1.9.0)\n",
      "Requirement already satisfied: typing-extensions<5,>=4.7 in /home/ubuntu/.local/lib/python3.8/site-packages (from openai<2.0.0,>=1.10.0->langchain-openai) (4.9.0)\n",
      "Requirement already satisfied: tqdm>4 in /home/ubuntu/.local/lib/python3.8/site-packages (from openai<2.0.0,>=1.10.0->langchain-openai) (4.66.1)\n",
      "Requirement already satisfied: sniffio in /home/ubuntu/.local/lib/python3.8/site-packages (from openai<2.0.0,>=1.10.0->langchain-openai) (1.3.0)\n",
      "Requirement already satisfied: pydantic<3,>=1.9.0 in /home/ubuntu/.local/lib/python3.8/site-packages (from openai<2.0.0,>=1.10.0->langchain-openai) (2.5.3)\n",
      "Requirement already satisfied: httpx<1,>=0.23.0 in /home/ubuntu/.local/lib/python3.8/site-packages (from openai<2.0.0,>=1.10.0->langchain-openai) (0.26.0)\n",
      "Requirement already satisfied: anyio<5,>=3.5.0 in /home/ubuntu/.local/lib/python3.8/site-packages (from openai<2.0.0,>=1.10.0->langchain-openai) (4.2.0)\n",
      "Requirement already satisfied: regex>=2022.1.18 in /home/ubuntu/.local/lib/python3.8/site-packages (from tiktoken<0.6.0,>=0.5.2->langchain-openai) (2023.12.25)\n",
      "Requirement already satisfied: requests>=2.26.0 in /home/ubuntu/.local/lib/python3.8/site-packages (from tiktoken<0.6.0,>=0.5.2->langchain-openai) (2.31.0)\n",
      "Collecting langsmith<0.0.88,>=0.0.87\n",
      "  Downloading langsmith-0.0.87-py3-none-any.whl (55 kB)\n",
      "\u001b[K     |████████████████████████████████| 55 kB 4.1 MB/s  eta 0:00:01\n",
      "\u001b[?25hRequirement already satisfied: jsonpatch<2.0,>=1.33 in /home/ubuntu/.local/lib/python3.8/site-packages (from langchain-core<0.2,>=0.1.16->langchain-openai) (1.33)\n",
      "Requirement already satisfied: packaging<24.0,>=23.2 in /home/ubuntu/.local/lib/python3.8/site-packages (from langchain-core<0.2,>=0.1.16->langchain-openai) (23.2)\n",
      "Requirement already satisfied: PyYAML>=5.3 in /usr/lib/python3/dist-packages (from langchain-core<0.2,>=0.1.16->langchain-openai) (5.3.1)\n",
      "Requirement already satisfied: tenacity<9.0.0,>=8.1.0 in /home/ubuntu/.local/lib/python3.8/site-packages (from langchain-core<0.2,>=0.1.16->langchain-openai) (8.2.3)\n",
      "Requirement already satisfied: annotated-types>=0.4.0 in /home/ubuntu/.local/lib/python3.8/site-packages (from pydantic<3,>=1.9.0->openai<2.0.0,>=1.10.0->langchain-openai) (0.6.0)\n",
      "Requirement already satisfied: pydantic-core==2.14.6 in /home/ubuntu/.local/lib/python3.8/site-packages (from pydantic<3,>=1.9.0->openai<2.0.0,>=1.10.0->langchain-openai) (2.14.6)\n",
      "Requirement already satisfied: certifi in /usr/lib/python3/dist-packages (from httpx<1,>=0.23.0->openai<2.0.0,>=1.10.0->langchain-openai) (2019.11.28)\n",
      "Requirement already satisfied: httpcore==1.* in /home/ubuntu/.local/lib/python3.8/site-packages (from httpx<1,>=0.23.0->openai<2.0.0,>=1.10.0->langchain-openai) (1.0.2)\n",
      "Requirement already satisfied: idna in /usr/lib/python3/dist-packages (from httpx<1,>=0.23.0->openai<2.0.0,>=1.10.0->langchain-openai) (2.8)\n",
      "Requirement already satisfied: exceptiongroup>=1.0.2; python_version < \"3.11\" in /home/ubuntu/.local/lib/python3.8/site-packages (from anyio<5,>=3.5.0->openai<2.0.0,>=1.10.0->langchain-openai) (1.2.0)\n",
      "Requirement already satisfied: charset-normalizer<4,>=2 in /home/ubuntu/.local/lib/python3.8/site-packages (from requests>=2.26.0->tiktoken<0.6.0,>=0.5.2->langchain-openai) (3.3.2)\n",
      "Requirement already satisfied: urllib3<3,>=1.21.1 in /home/ubuntu/.local/lib/python3.8/site-packages (from requests>=2.26.0->tiktoken<0.6.0,>=0.5.2->langchain-openai) (2.1.0)\n",
      "Requirement already satisfied: jsonpointer>=1.9 in /usr/lib/python3/dist-packages (from jsonpatch<2.0,>=1.33->langchain-core<0.2,>=0.1.16->langchain-openai) (2.0)\n",
      "Requirement already satisfied: h11<0.15,>=0.13 in /home/ubuntu/.local/lib/python3.8/site-packages (from httpcore==1.*->httpx<1,>=0.23.0->openai<2.0.0,>=1.10.0->langchain-openai) (0.14.0)\n",
      "Installing collected packages: openai, langchain-openai, langsmith\n",
      "  Attempting uninstall: openai\n",
      "    Found existing installation: openai 0.28.0\n",
      "    Uninstalling openai-0.28.0:\n",
      "      Successfully uninstalled openai-0.28.0\n",
      "  Attempting uninstall: langsmith\n",
      "    Found existing installation: langsmith 0.0.90\n",
      "    Uninstalling langsmith-0.0.90:\n",
      "      Successfully uninstalled langsmith-0.0.90\n",
      "Successfully installed langchain-openai-0.0.5 langsmith-0.0.87 openai-1.12.0\n"
     ]
    }
   ],
   "source": [
    "!pip install langchain-openai\n"
   ]
  },
  {
   "cell_type": "code",
   "execution_count": 4,
   "id": "e3cb27db-ec15-423f-a8b6-df22be36d977",
   "metadata": {},
   "outputs": [],
   "source": [
    "# Few Shot Examples\n",
    "examples = [\n",
    "    {\n",
    "        \"input\": \"Could the members of The Police perform lawful arrests?\",\n",
    "        \"output\": \"what can the members of The Police do?\",\n",
    "    },\n",
    "    {\n",
    "        \"input\": \"Jan Sindel’s was born in what country?\",\n",
    "        \"output\": \"what is Jan Sindel’s personal history?\",\n",
    "    },\n",
    "]\n",
    "# We now transform these to example messages\n",
    "example_prompt = ChatPromptTemplate.from_messages(\n",
    "    [\n",
    "        (\"human\", \"{input}\"),\n",
    "        (\"ai\", \"{output}\"),\n",
    "    ]\n",
    ")\n",
    "few_shot_prompt = FewShotChatMessagePromptTemplate(\n",
    "    example_prompt=example_prompt,\n",
    "    examples=examples,\n",
    ")"
   ]
  },
  {
   "cell_type": "code",
   "execution_count": 5,
   "id": "3e78b55d-0bd7-4e13-9337-6fe2db1ed59f",
   "metadata": {},
   "outputs": [],
   "source": [
    "prompt = ChatPromptTemplate.from_messages(\n",
    "    [\n",
    "        (\n",
    "            \"system\",\n",
    "            \"\"\"You are an expert at world knowledge. Your task is to step back and paraphrase a question to a more generic step-back question, which is easier to answer. Here are a few examples:\"\"\",\n",
    "        ),\n",
    "        # Few shot examples\n",
    "        few_shot_prompt,\n",
    "        # New question\n",
    "        (\"user\", \"{question}\"),\n",
    "    ]\n",
    ")"
   ]
  },
  {
   "cell_type": "code",
   "execution_count": 11,
   "id": "83d4ba38-f047-4c00-8890-dbd2729b643f",
   "metadata": {},
   "outputs": [],
   "source": [
    "question_gen = prompt | ChatOpenAI(temperature=0) | StrOutputParser()"
   ]
  },
  {
   "cell_type": "code",
   "execution_count": 7,
   "id": "a4a892ca-2384-4182-a5cc-e9c5d74f88c9",
   "metadata": {},
   "outputs": [],
   "source": [
    "\n",
    "import openai\n",
    "\n",
    "openai.organization = \n",
    "openai.api_key = "
   ]
  },
  {
   "cell_type": "code",
   "execution_count": 10,
   "id": "1707e4bc-a27a-48ad-888f-ff64f16b86d5",
   "metadata": {},
   "outputs": [],
   "source": [
    "import os\n",
    "\n",
    "os.environ['OPENAI_API_KEY'] = "
   ]
  },
  {
   "cell_type": "code",
   "execution_count": 24,
   "id": "330e756b-8316-402b-8660-de7a9197d3d9",
   "metadata": {},
   "outputs": [],
   "source": [
    "question = \"convert 3560 billion usd to lakh crore inr\""
   ]
  },
  {
   "cell_type": "code",
   "execution_count": 25,
   "id": "4c9527fb-428d-47e1-8c49-7e7b553e8069",
   "metadata": {},
   "outputs": [
    {
     "name": "stderr",
     "output_type": "stream",
     "text": [
      "Task was destroyed but it is pending!\n",
      "task: <Task pending name='Task-24' coro=<AsyncCurl._force_timeout() done, defined at /home/ubuntu/.local/lib/python3.8/site-packages/curl_cffi/aio.py:164> wait_for=<Future cancelled>>\n"
     ]
    },
    {
     "data": {
      "text/plain": [
       "'what is the conversion rate between USD and INR?'"
      ]
     },
     "execution_count": 25,
     "metadata": {},
     "output_type": "execute_result"
    }
   ],
   "source": [
    "question_gen.invoke({\"question\": question})"
   ]
  },
  {
   "cell_type": "code",
   "execution_count": 26,
   "id": "d282e76c-b3ec-44f7-a376-f3cd3347f0fc",
   "metadata": {},
   "outputs": [],
   "source": [
    "from langchain_community.utilities import DuckDuckGoSearchAPIWrapper\n",
    "\n",
    "search = DuckDuckGoSearchAPIWrapper(max_results=4)\n",
    "\n",
    "\n",
    "def retriever(query):\n",
    "    return search.run(query)"
   ]
  },
  {
   "cell_type": "code",
   "execution_count": 15,
   "id": "44b495c1-1ce6-4729-871f-fef6a54d2062",
   "metadata": {},
   "outputs": [
    {
     "name": "stdout",
     "output_type": "stream",
     "text": [
      "Collecting duckduckgo-search\n",
      "  Downloading duckduckgo_search-4.4.3-py3-none-any.whl (20 kB)\n",
      "Collecting nest-asyncio>=1.6.0\n",
      "  Downloading nest_asyncio-1.6.0-py3-none-any.whl (5.2 kB)\n",
      "Requirement already satisfied, skipping upgrade: click>=8.1.7 in /home/ubuntu/.local/lib/python3.8/site-packages (from duckduckgo-search) (8.1.7)\n",
      "Collecting curl-cffi>=0.6.0b9\n",
      "  Downloading curl_cffi-0.6.0b9-cp38-abi3-manylinux_2_17_x86_64.manylinux2014_x86_64.whl (6.9 MB)\n",
      "\u001b[K     |████████████████████████████████| 6.9 MB 16.6 MB/s eta 0:00:01\n",
      "\u001b[?25hCollecting lxml>=5.1.0\n",
      "  Downloading lxml-5.1.0-cp38-cp38-manylinux_2_17_x86_64.manylinux2014_x86_64.whl (8.0 MB)\n",
      "\u001b[K     |████████████████████████████████| 8.0 MB 49.5 MB/s eta 0:00:01\n",
      "\u001b[?25hRequirement already satisfied, skipping upgrade: certifi in /usr/lib/python3/dist-packages (from curl-cffi>=0.6.0b9->duckduckgo-search) (2019.11.28)\n",
      "Requirement already satisfied, skipping upgrade: cffi>=1.12.0 in /home/ubuntu/.local/lib/python3.8/site-packages (from curl-cffi>=0.6.0b9->duckduckgo-search) (1.16.0)\n",
      "Requirement already satisfied, skipping upgrade: pycparser in /home/ubuntu/.local/lib/python3.8/site-packages (from cffi>=1.12.0->curl-cffi>=0.6.0b9->duckduckgo-search) (2.21)\n",
      "Installing collected packages: nest-asyncio, curl-cffi, lxml, duckduckgo-search\n",
      "  Attempting uninstall: nest-asyncio\n",
      "    Found existing installation: nest-asyncio 1.5.9\n",
      "    Uninstalling nest-asyncio-1.5.9:\n",
      "      Successfully uninstalled nest-asyncio-1.5.9\n",
      "Successfully installed curl-cffi-0.6.0b9 duckduckgo-search-4.4.3 lxml-5.1.0 nest-asyncio-1.6.0\n"
     ]
    }
   ],
   "source": [
    "!pip install -U duckduckgo-search"
   ]
  },
  {
   "cell_type": "code",
   "execution_count": 27,
   "id": "7108da4e-85dc-4afa-abc9-e40199b1bdf5",
   "metadata": {},
   "outputs": [
    {
     "data": {
      "text/plain": [
       "'based on the Feb. 11, 2024 0:0:3 exchange rate from openexchangerates.org. USD to INR Conversion Table How to Convert USD to INR 1 United States Dollar = 83.01474 Indian Rupee 1 Indian Rupee = 0.0120460535 United States Dollar Example: convert 15 United States Dollar to Indian Rupee: Quick Conversions from United States Dollar to Indian Rupee : 1 USD = 83.014146 INR Last Updated 2/9/2024 12:50:52 PM Currency converter to convert from United States Dollar (USD) to Indian Rupee (INR) including the latest exchange rates, a chart showing the exchange rate history for the last 120-days and information about the currencies. Money Transfer Currency Converter USD To INR 1 USD To INR Convert United States Dollar To Indian Rupee 1 USD = 83.01474 INR Feb 11, 2024 10:41 UTC Send Money Check the currency... The USD conversion factor has 6 significant digits. Large amounts of Rupees are expressed in lakh rupees or crore rupees. A Lakh Rupee is one hundred thousand rupees and a crore rupee is ten million rupees. INR USD coinmill.com 50.0 0.60 100.0 1.20 200.0 2.41 500.0 ... i need to know the USD to INR conversion rates on 16/12/2004, 24/11/2004 ...'"
      ]
     },
     "execution_count": 27,
     "metadata": {},
     "output_type": "execute_result"
    }
   ],
   "source": [
    "retriever(question)"
   ]
  },
  {
   "cell_type": "code",
   "execution_count": 28,
   "id": "6063ba9a-8c78-4fcc-b496-4ee42d795e29",
   "metadata": {},
   "outputs": [
    {
     "data": {
      "text/plain": [
       "\"Current exchange rate US DOLLAR (USD) to INDIAN RUPEE (INR) including currency converter, buying & selling rate and historical conversion chart. United States Dollar to Indian Rupee 1 USD = 83.01474 INR Feb 11, 2024 10:41 UTC If you've got a trip to India coming up, you may want to convert some of your money into rupees before you... 1.00 USD = 83.037564 INR. Feb 11, 2024 11:02 UTC. View USD Rates Table. View INR Rates Table. View USD / INR Graphs. 1. Configure Converter. ↔. Currency Calculator. Currency Converter INR To USD 1 INR To USD Convert Indian Rupee To United States Dollar 1 INR = 0.01205 USD Feb 08, 2024 23:56 UTC Send Money Check the currency rates against...\""
      ]
     },
     "execution_count": 28,
     "metadata": {},
     "output_type": "execute_result"
    }
   ],
   "source": [
    "retriever(question_gen.invoke({\"question\": question}))"
   ]
  },
  {
   "cell_type": "code",
   "execution_count": 29,
   "id": "592006dd-8554-4395-a2de-7e6b29c5cd65",
   "metadata": {},
   "outputs": [],
   "source": [
    "\n",
    "from langchain import hub\n",
    "\n",
    "response_prompt = hub.pull(\"langchain-ai/stepback-answer\")"
   ]
  },
  {
   "cell_type": "code",
   "execution_count": 20,
   "id": "5c184eb7-d3f6-4337-a0b5-f1f8a7dca663",
   "metadata": {},
   "outputs": [
    {
     "name": "stdout",
     "output_type": "stream",
     "text": [
      "Collecting langchainhub\n",
      "  Downloading langchainhub-0.1.14-py3-none-any.whl (3.4 kB)\n",
      "Collecting types-requests<3.0.0.0,>=2.31.0.2\n",
      "  Downloading types_requests-2.31.0.20240125-py3-none-any.whl (14 kB)\n",
      "Requirement already satisfied: requests<3,>=2 in /home/ubuntu/.local/lib/python3.8/site-packages (from langchainhub) (2.31.0)\n",
      "Requirement already satisfied: urllib3>=2 in /home/ubuntu/.local/lib/python3.8/site-packages (from types-requests<3.0.0.0,>=2.31.0.2->langchainhub) (2.1.0)\n",
      "Requirement already satisfied: idna<4,>=2.5 in /usr/lib/python3/dist-packages (from requests<3,>=2->langchainhub) (2.8)\n",
      "Requirement already satisfied: certifi>=2017.4.17 in /usr/lib/python3/dist-packages (from requests<3,>=2->langchainhub) (2019.11.28)\n",
      "Requirement already satisfied: charset-normalizer<4,>=2 in /home/ubuntu/.local/lib/python3.8/site-packages (from requests<3,>=2->langchainhub) (3.3.2)\n",
      "Installing collected packages: types-requests, langchainhub\n",
      "Successfully installed langchainhub-0.1.14 types-requests-2.31.0.20240125\n"
     ]
    }
   ],
   "source": [
    "!pip install langchainhub"
   ]
  },
  {
   "cell_type": "code",
   "execution_count": 30,
   "id": "e8185216-3d6e-461e-8352-607c3474a1fd",
   "metadata": {},
   "outputs": [],
   "source": [
    "chain = (\n",
    "    {\n",
    "        # Retrieve context using the normal question\n",
    "        \"normal_context\": RunnableLambda(lambda x: x[\"question\"]) | retriever,\n",
    "        # Retrieve context using the step-back question\n",
    "        \"step_back_context\": question_gen | retriever,\n",
    "        # Pass on the question\n",
    "        \"question\": lambda x: x[\"question\"],\n",
    "    }\n",
    "    | response_prompt\n",
    "    | ChatOpenAI(temperature=0)\n",
    "    | StrOutputParser()\n",
    ")"
   ]
  },
  {
   "cell_type": "code",
   "execution_count": 31,
   "id": "5863e8e5-f658-4ff1-9ca8-30a1df68c952",
   "metadata": {},
   "outputs": [
    {
     "name": "stderr",
     "output_type": "stream",
     "text": [
      "Task was destroyed but it is pending!\n",
      "task: <Task pending name='Task-20' coro=<AsyncCurl._force_timeout() running at /home/ubuntu/.local/lib/python3.8/site-packages/curl_cffi/aio.py:168> wait_for=<Future cancelled>>\n"
     ]
    },
    {
     "data": {
      "text/plain": [
       "'To convert 3560 billion USD to lakh crore INR, we need to first convert USD to INR and then convert the resulting amount to lakh crore.\\n\\nAccording to the given exchange rate of 1 USD = 83.01474 INR, we can calculate the equivalent amount in INR:\\n\\n3560 billion USD * 83.01474 INR/USD = 295,091.8544 billion INR\\n\\nNow, to convert billion INR to lakh crore INR, we need to divide the amount by 100,000 (since 1 lakh crore is equal to 100,000 crore):\\n\\n295,091.8544 billion INR / 100,000 = 2,950.918544 lakh crore INR\\n\\nTherefore, 3560 billion USD is equivalent to 2,950.918544 lakh crore INR.'"
      ]
     },
     "execution_count": 31,
     "metadata": {},
     "output_type": "execute_result"
    }
   ],
   "source": [
    "chain.invoke({\"question\": question})"
   ]
  },
  {
   "cell_type": "code",
   "execution_count": null,
   "id": "05f5a7cc-f60c-4567-93be-730f0e2951e0",
   "metadata": {},
   "outputs": [],
   "source": []
  }
 ],
 "metadata": {
  "kernelspec": {
   "display_name": "Python 3 (ipykernel)",
   "language": "python",
   "name": "python3"
  },
  "language_info": {
   "codemirror_mode": {
    "name": "ipython",
    "version": 3
   },
   "file_extension": ".py",
   "mimetype": "text/x-python",
   "name": "python",
   "nbconvert_exporter": "python",
   "pygments_lexer": "ipython3",
   "version": "3.8.10"
  }
 },
 "nbformat": 4,
 "nbformat_minor": 5
}
